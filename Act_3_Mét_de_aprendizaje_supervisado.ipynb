{
  "cells": [
    {
      "cell_type": "markdown",
      "metadata": {
        "colab_type": "text",
        "id": "view-in-github"
      },
      "source": [
        "<a href=\"https://colab.research.google.com/github/eleaz1/ActividadesIA/blob/main/Actividad_3_M%C3%A9todos_de_aprendizaje_supervisado.ipynb\" target=\"_parent\"><img src=\"https://colab.research.google.com/assets/colab-badge.svg\" alt=\"Open In Colab\"/></a>"
      ]
    },
    {
      "cell_type": "markdown",
      "metadata": {
        "id": "E1l7_K6u220e"
      },
      "source": [
        "\n",
        "Algoritmo creador de dase de datos para transporte masivo.\n"
      ]
    },
    {
      "cell_type": "code",
      "execution_count": 1,
      "metadata": {
        "colab": {
          "base_uri": "https://localhost:8080/"
        },
        "id": "AL8cPvF61wpa",
        "outputId": "6e565198-a0d2-45c7-b556-d7c29081ae11"
      },
      "outputs": [
        {
          "name": "stdout",
          "output_type": "stream",
          "text": [
            "     Ruta      Dia  Tiempo_recorrido_min  Pasajeros     Clima\n",
            "0  Ruta 3   Martes                    19         23   Soleado\n",
            "1  Ruta 5   Martes                    52          8  Lluvioso\n",
            "2  Ruta 5    Lunes                    18         35   Soleado\n",
            "3  Ruta 3  Domingo                    40         38   Nublado\n",
            "4  Ruta 2   Jueves                    20         13  Lluvioso\n"
          ]
        }
      ],
      "source": [
        "import pandas as pd\n",
        "import random\n",
        "from collections import Counter\n",
        "\n",
        "# Definir las rutas, días y condiciones meteorológicas posibles\n",
        "rutas = ['Ruta 1', 'Ruta 2', 'Ruta 3', 'Ruta 4', 'Ruta 5']\n",
        "dias = ['Lunes', 'Martes', 'Miércoles', 'Jueves', 'Viernes', 'Sábado', 'Domingo']\n",
        "clima = ['Soleado', 'Lluvioso', 'Nublado']\n",
        "\n",
        "# Crear una muestra aleatoria de datos simulados\n",
        "num_samples = 10000\n",
        "data = {\n",
        "    'Ruta': [rutas[i % len(rutas)] for i in range(num_samples)],\n",
        "    'Dia': [dias[i % len(dias)] for i in range(num_samples)],\n",
        "    'Tiempo_recorrido_min': [random.randint(15, 60) for _ in range(num_samples)],\n",
        "    'Pasajeros': [random.randint(5, 50) for _ in range(num_samples)],\n",
        "    'Clima': [clima[i % len(clima)] for i in range(num_samples)]\n",
        "}\n",
        "\n",
        "# Mezclar los datos para evitar patrones obvios\n",
        "random.shuffle(data['Ruta'])\n",
        "random.shuffle(data['Dia'])\n",
        "random.shuffle(data['Clima'])\n",
        "\n",
        "df = pd.DataFrame(data)\n",
        "print(df.head())\n",
        "df.to_csv('datos_transporte.csv', index=False)\n",
        "\n",
        "\n"
      ]
    },
    {
      "cell_type": "markdown",
      "metadata": {
        "id": "jERZ7IFN3fVh"
      },
      "source": [
        "Utilizaremos un algoritmo simple como un Árbol de Decisión (Decision Tree) que se ajusta bien para datos categóricos como rutas y clima, y numéricos como tiempo de recorrido y número de pasajeros.\n",
        "\n",
        "Podemos predecir, por ejemplo, el tiempo de recorrido en función de las demás variables (rutas, días, clima, cantidad de pasajeros).\n",
        "\n",
        "Ejemplo de cómo entrenar un árbol de decisión:"
      ]
    },
    {
      "cell_type": "code",
      "execution_count": 2,
      "metadata": {
        "colab": {
          "base_uri": "https://localhost:8080/"
        },
        "id": "LUw2Ephj3XpQ",
        "outputId": "da7d1ee3-ea49-438d-ee88-4428fa40c7d6"
      },
      "outputs": [
        {
          "name": "stdout",
          "output_type": "stream",
          "text": [
            "Error Medio Absoluto (MAE): 13.961113095238096\n",
            "Error Cuadrático Medio (MSE): 289.2058319982993\n",
            "Raíz del Error Cuadrático Medio (RMSE): 17.006052804760408\n",
            "Coeficiente de Determinación (R²): -0.6815309297672612\n",
            "MAE con validación cruzada: 14.105165714285713\n"
          ]
        }
      ],
      "source": [
        "from sklearn.model_selection import train_test_split, cross_val_score\n",
        "from sklearn.tree import DecisionTreeRegressor\n",
        "from sklearn.metrics import mean_absolute_error, mean_squared_error, r2_score\n",
        "import pandas as pd\n",
        "\n",
        "# Cargar datos\n",
        "df = pd.read_csv('datos_transporte.csv')\n",
        "\n",
        "# Preparación de datos\n",
        "X = df[['Ruta', 'Dia', 'Pasajeros', 'Clima']] #variables independientes\n",
        "y = df['Tiempo_recorrido_min'] #variable dependiente\n",
        "\n",
        "# Convertir variables categóricas a variables dummy\n",
        "X = pd.get_dummies(X)\n",
        "\n",
        "# Dividir el conjunto de datos en entrenamiento y prueba\n",
        "X_train, X_test, y_train, y_test = train_test_split(X, y, test_size=0.2, random_state=42)\n",
        "\n",
        "# Entrenar el modelo\n",
        "modelo = DecisionTreeRegressor(random_state=42)\n",
        "modelo.fit(X_train, y_train)\n",
        "\n",
        "# Realizar predicciones\n",
        "predicciones = modelo.predict(X_test)\n",
        "\n",
        "# Evaluar el modelo\n",
        "mae = mean_absolute_error(y_test, predicciones)\n",
        "mse = mean_squared_error(y_test, predicciones)\n",
        "rmse = mse ** 0.5\n",
        "r2 = r2_score(y_test, predicciones)\n",
        "\n",
        "print(f\"Error Medio Absoluto (MAE): {mae}\")\n",
        "print(f\"Error Cuadrático Medio (MSE): {mse}\")\n",
        "print(f\"Raíz del Error Cuadrático Medio (RMSE): {rmse}\")\n",
        "print(f\"Coeficiente de Determinación (R²): {r2}\")\n",
        "\n",
        "# Validación cruzada\n",
        "scores = cross_val_score(modelo, X, y, cv=5, scoring='neg_mean_absolute_error')\n",
        "mae_cv = -scores.mean()\n",
        "print(f\"MAE con validación cruzada: {mae_cv}\")"
      ]
    }
  ],
  "metadata": {
    "colab": {
      "authorship_tag": "ABX9TyMRhoMTRZXIr9PlKOT4I1m4",
      "include_colab_link": true,
      "provenance": []
    },
    "kernelspec": {
      "display_name": "Python 3",
      "name": "python3"
    },
    "language_info": {
      "codemirror_mode": {
        "name": "ipython",
        "version": 3
      },
      "file_extension": ".py",
      "mimetype": "text/x-python",
      "name": "python",
      "nbconvert_exporter": "python",
      "pygments_lexer": "ipython3",
      "version": "3.11.9"
    }
  },
  "nbformat": 4,
  "nbformat_minor": 0
}
